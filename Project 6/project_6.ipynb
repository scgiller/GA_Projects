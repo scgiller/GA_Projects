{
 "cells": [
  {
   "cell_type": "code",
   "execution_count": 2,
   "metadata": {
    "collapsed": true
   },
   "outputs": [],
   "source": [
    "import numpy as np\n",
    "import pandas as pd \n",
    "import matplotlib as mpl\n",
    "import matplotlib.pyplot as plt\n",
    "import seaborn as sns\n",
    "import scipy\n",
    "import math\n",
    "from patsy import dmatrices\n",
    "\n",
    "from scipy import stats\n",
    "from sklearn import datasets, linear_model\n",
    "from sklearn import metrics\n",
    "import statsmodels.formula.api as smh\n",
    "from sklearn.metrics import r2_score\n",
    "from sklearn.metrics import classification_report, confusion_matrix, accuracy_score\n",
    "from sklearn.linear_model import LogisticRegression\n",
    "from sklearn.cross_validation import train_test_split, cross_val_score\n",
    "from sklearn.metrics import roc_curve\n",
    "from sklearn.neighbors import KNeighborsClassifier\n",
    "from sklearn.grid_search import GridSearchCV\n",
    "from sklearn.preprocessing import LabelEncoder\n",
    "from sklearn.metrics import roc_auc_score\n",
    "from sklearn.cross_validation import train_test_split\n",
    "\n",
    "import sys\n",
    "reload(sys)\n",
    "sys.setdefaultencoding('utf8')\n",
    "\n",
    "%matplotlib inline\n",
    "import requests"
   ]
  },
  {
   "cell_type": "markdown",
   "metadata": {},
   "source": [
    "Trying to Understand What Factors Most Influence Ratings: A comparison between the best movies ever and the worst movies ever, according to IMDb.com"
   ]
  },
  {
   "cell_type": "markdown",
   "metadata": {},
   "source": [
    "Install IMDb API and pull information for Top 250 movies"
   ]
  },
  {
   "cell_type": "code",
   "execution_count": 3,
   "metadata": {
    "collapsed": false
   },
   "outputs": [],
   "source": [
    "!pip install imdbpie"
   ]
  },
  {
   "cell_type": "code",
   "execution_count": 4,
   "metadata": {
    "collapsed": true
   },
   "outputs": [],
   "source": [
    "from imdbpie import Imdb\n",
    "imdb = Imdb(anonymize=True)"
   ]
  },
  {
   "cell_type": "code",
   "execution_count": 5,
   "metadata": {
    "collapsed": true
   },
   "outputs": [],
   "source": [
    "df = pd.DataFrame.from_dict(imdb.top_250())"
   ]
  },
  {
   "cell_type": "code",
   "execution_count": 6,
   "metadata": {
    "collapsed": false,
    "scrolled": true
   },
   "outputs": [
    {
     "data": {
      "text/html": [
       "<div>\n",
       "<table border=\"1\" class=\"dataframe\">\n",
       "  <thead>\n",
       "    <tr style=\"text-align: right;\">\n",
       "      <th></th>\n",
       "      <th>can_rate</th>\n",
       "      <th>image</th>\n",
       "      <th>num_votes</th>\n",
       "      <th>rating</th>\n",
       "      <th>tconst</th>\n",
       "      <th>title</th>\n",
       "      <th>type</th>\n",
       "      <th>year</th>\n",
       "    </tr>\n",
       "  </thead>\n",
       "  <tbody>\n",
       "    <tr>\n",
       "      <th>0</th>\n",
       "      <td>True</td>\n",
       "      <td>{u'url': u'http://ia.media-imdb.com/images/M/M...</td>\n",
       "      <td>1680298</td>\n",
       "      <td>9.3</td>\n",
       "      <td>tt0111161</td>\n",
       "      <td>The Shawshank Redemption</td>\n",
       "      <td>feature</td>\n",
       "      <td>1994</td>\n",
       "    </tr>\n",
       "    <tr>\n",
       "      <th>1</th>\n",
       "      <td>True</td>\n",
       "      <td>{u'url': u'http://ia.media-imdb.com/images/M/M...</td>\n",
       "      <td>1149612</td>\n",
       "      <td>9.2</td>\n",
       "      <td>tt0068646</td>\n",
       "      <td>The Godfather</td>\n",
       "      <td>feature</td>\n",
       "      <td>1972</td>\n",
       "    </tr>\n",
       "    <tr>\n",
       "      <th>2</th>\n",
       "      <td>True</td>\n",
       "      <td>{u'url': u'http://ia.media-imdb.com/images/M/M...</td>\n",
       "      <td>786230</td>\n",
       "      <td>9.0</td>\n",
       "      <td>tt0071562</td>\n",
       "      <td>The Godfather: Part II</td>\n",
       "      <td>feature</td>\n",
       "      <td>1974</td>\n",
       "    </tr>\n",
       "    <tr>\n",
       "      <th>3</th>\n",
       "      <td>True</td>\n",
       "      <td>{u'url': u'http://ia.media-imdb.com/images/M/M...</td>\n",
       "      <td>1665324</td>\n",
       "      <td>9.0</td>\n",
       "      <td>tt0468569</td>\n",
       "      <td>The Dark Knight</td>\n",
       "      <td>feature</td>\n",
       "      <td>2008</td>\n",
       "    </tr>\n",
       "    <tr>\n",
       "      <th>4</th>\n",
       "      <td>True</td>\n",
       "      <td>{u'url': u'http://ia.media-imdb.com/images/M/M...</td>\n",
       "      <td>859974</td>\n",
       "      <td>8.9</td>\n",
       "      <td>tt0108052</td>\n",
       "      <td>Schindler's List</td>\n",
       "      <td>feature</td>\n",
       "      <td>1993</td>\n",
       "    </tr>\n",
       "  </tbody>\n",
       "</table>\n",
       "</div>"
      ],
      "text/plain": [
       "  can_rate                                              image  num_votes  \\\n",
       "0     True  {u'url': u'http://ia.media-imdb.com/images/M/M...    1680298   \n",
       "1     True  {u'url': u'http://ia.media-imdb.com/images/M/M...    1149612   \n",
       "2     True  {u'url': u'http://ia.media-imdb.com/images/M/M...     786230   \n",
       "3     True  {u'url': u'http://ia.media-imdb.com/images/M/M...    1665324   \n",
       "4     True  {u'url': u'http://ia.media-imdb.com/images/M/M...     859974   \n",
       "\n",
       "   rating     tconst                     title     type  year  \n",
       "0     9.3  tt0111161  The Shawshank Redemption  feature  1994  \n",
       "1     9.2  tt0068646             The Godfather  feature  1972  \n",
       "2     9.0  tt0071562    The Godfather: Part II  feature  1974  \n",
       "3     9.0  tt0468569           The Dark Knight  feature  2008  \n",
       "4     8.9  tt0108052          Schindler's List  feature  1993  "
      ]
     },
     "execution_count": 6,
     "metadata": {},
     "output_type": "execute_result"
    }
   ],
   "source": [
    "df.head()"
   ]
  },
  {
   "cell_type": "markdown",
   "metadata": {},
   "source": [
    "Clean the Title field to be turned into list and fed into JSON code. This will pull all relevant information on Top 250 movies to be used in analysis"
   ]
  },
  {
   "cell_type": "code",
   "execution_count": 7,
   "metadata": {
    "collapsed": false
   },
   "outputs": [],
   "source": [
    "df['title_link'] = df['title'].replace(' ','+',regex=True)\n",
    "df['title_link'] = df['title_link'].replace(',','',regex=True)"
   ]
  },
  {
   "cell_type": "code",
   "execution_count": 8,
   "metadata": {
    "collapsed": false
   },
   "outputs": [],
   "source": [
    "titles = df['title_link'].tolist()"
   ]
  },
  {
   "cell_type": "code",
   "execution_count": 9,
   "metadata": {
    "collapsed": false
   },
   "outputs": [],
   "source": [
    "import json\n",
    "import urllib2\n",
    "\n",
    "top250 = pd.DataFrame(columns = ['Plot','Rated','Response','Language','Title','Country','Writer','Metascore',\n",
    "                                 'imdbRating','Director','Released','Actors','Year','Genre','Awards','Runtime','Type',\n",
    "                                 'Poster','imdbVotes','imdbID'])\n",
    "print top250\n",
    "\n",
    "for i in titles:\n",
    "    url = \"http://www.omdbapi.com/?t={0}&plot=short&r=json\".format(i)\n",
    "    data = json.load(urllib2.urlopen(url))\n",
    "    df_i = pd.DataFrame.from_dict(data, orient='index')\n",
    "    df_i = df_i.T\n",
    "    top250 = top250.append(df_i)"
   ]
  },
  {
   "cell_type": "code",
   "execution_count": 10,
   "metadata": {
    "collapsed": true
   },
   "outputs": [],
   "source": [
    "# Drop columns that will not be used in analysis\n",
    "top250_v2 = top250.drop(top250.columns[[0,3,7,9,12,15,16,18]], axis=1)"
   ]
  },
  {
   "cell_type": "code",
   "execution_count": 11,
   "metadata": {
    "collapsed": false,
    "scrolled": true
   },
   "outputs": [],
   "source": [
    "# Convert Year, imdbRating, and imdbVotes fields to numeric\n",
    "top250_v2['Year'] = top250_v2['Year'].convert_objects(convert_numeric=True)\n",
    "top250_v2['imdbRating'] = top250_v2['imdbRating'].convert_objects(convert_numeric=True)\n",
    "top250_v2['imdbVotes'] = top250_v2['imdbVotes'].replace(',','',regex=True)\n",
    "top250_v2['imdbVotes'] = top250_v2['imdbVotes'].convert_objects(convert_numeric=True)"
   ]
  },
  {
   "cell_type": "code",
   "execution_count": 12,
   "metadata": {
    "collapsed": false
   },
   "outputs": [
    {
     "data": {
      "text/plain": [
       "Must provide more than one character.    1\n",
       "Name: Error, dtype: int64"
      ]
     },
     "execution_count": 12,
     "metadata": {},
     "output_type": "execute_result"
    }
   ],
   "source": [
    "top250_v2['Error'].value_counts()"
   ]
  },
  {
   "cell_type": "markdown",
   "metadata": {},
   "source": [
    "JSON cannot find one movie - I will drop this"
   ]
  },
  {
   "cell_type": "code",
   "execution_count": 13,
   "metadata": {
    "collapsed": false
   },
   "outputs": [
    {
     "data": {
      "text/html": [
       "<div>\n",
       "<table border=\"1\" class=\"dataframe\">\n",
       "  <thead>\n",
       "    <tr style=\"text-align: right;\">\n",
       "      <th></th>\n",
       "      <th>Awards</th>\n",
       "      <th>Country</th>\n",
       "      <th>Error</th>\n",
       "      <th>Genre</th>\n",
       "      <th>Language</th>\n",
       "      <th>Plot</th>\n",
       "      <th>Rated</th>\n",
       "      <th>Released</th>\n",
       "      <th>Runtime</th>\n",
       "      <th>Title</th>\n",
       "      <th>Year</th>\n",
       "      <th>imdbRating</th>\n",
       "      <th>imdbVotes</th>\n",
       "    </tr>\n",
       "  </thead>\n",
       "  <tbody>\n",
       "    <tr>\n",
       "      <th>0</th>\n",
       "      <td>Nominated for 7 Oscars. Another 15 wins &amp; 21 n...</td>\n",
       "      <td>USA</td>\n",
       "      <td>NaN</td>\n",
       "      <td>Crime, Drama</td>\n",
       "      <td>English</td>\n",
       "      <td>Two imprisoned men bond over a number of years...</td>\n",
       "      <td>R</td>\n",
       "      <td>14 Oct 1994</td>\n",
       "      <td>142 min</td>\n",
       "      <td>The Shawshank Redemption</td>\n",
       "      <td>1994.0</td>\n",
       "      <td>9.3</td>\n",
       "      <td>1668622.0</td>\n",
       "    </tr>\n",
       "    <tr>\n",
       "      <th>0</th>\n",
       "      <td>Won 3 Oscars. Another 23 wins &amp; 27 nominations.</td>\n",
       "      <td>USA</td>\n",
       "      <td>NaN</td>\n",
       "      <td>Crime, Drama</td>\n",
       "      <td>English, Italian, Latin</td>\n",
       "      <td>The aging patriarch of an organized crime dyna...</td>\n",
       "      <td>R</td>\n",
       "      <td>24 Mar 1972</td>\n",
       "      <td>175 min</td>\n",
       "      <td>The Godfather</td>\n",
       "      <td>1972.0</td>\n",
       "      <td>9.2</td>\n",
       "      <td>1140778.0</td>\n",
       "    </tr>\n",
       "    <tr>\n",
       "      <th>0</th>\n",
       "      <td>Won 6 Oscars. Another 10 wins &amp; 20 nominations.</td>\n",
       "      <td>USA</td>\n",
       "      <td>NaN</td>\n",
       "      <td>Crime, Drama</td>\n",
       "      <td>English, Italian, Spanish, Latin, Sicilian</td>\n",
       "      <td>The early life and career of Vito Corleone in ...</td>\n",
       "      <td>R</td>\n",
       "      <td>20 Dec 1974</td>\n",
       "      <td>202 min</td>\n",
       "      <td>The Godfather: Part II</td>\n",
       "      <td>1974.0</td>\n",
       "      <td>9.0</td>\n",
       "      <td>784338.0</td>\n",
       "    </tr>\n",
       "  </tbody>\n",
       "</table>\n",
       "</div>"
      ],
      "text/plain": [
       "                                              Awards Country Error  \\\n",
       "0  Nominated for 7 Oscars. Another 15 wins & 21 n...     USA   NaN   \n",
       "0    Won 3 Oscars. Another 23 wins & 27 nominations.     USA   NaN   \n",
       "0    Won 6 Oscars. Another 10 wins & 20 nominations.     USA   NaN   \n",
       "\n",
       "          Genre                                    Language  \\\n",
       "0  Crime, Drama                                     English   \n",
       "0  Crime, Drama                     English, Italian, Latin   \n",
       "0  Crime, Drama  English, Italian, Spanish, Latin, Sicilian   \n",
       "\n",
       "                                                Plot Rated     Released  \\\n",
       "0  Two imprisoned men bond over a number of years...     R  14 Oct 1994   \n",
       "0  The aging patriarch of an organized crime dyna...     R  24 Mar 1972   \n",
       "0  The early life and career of Vito Corleone in ...     R  20 Dec 1974   \n",
       "\n",
       "   Runtime                     Title    Year  imdbRating  imdbVotes  \n",
       "0  142 min  The Shawshank Redemption  1994.0         9.3  1668622.0  \n",
       "0  175 min             The Godfather  1972.0         9.2  1140778.0  \n",
       "0  202 min    The Godfather: Part II  1974.0         9.0   784338.0  "
      ]
     },
     "execution_count": 13,
     "metadata": {},
     "output_type": "execute_result"
    }
   ],
   "source": [
    "top250_v2.head(3)"
   ]
  },
  {
   "cell_type": "markdown",
   "metadata": {},
   "source": [
    "Scrape all worst movie titles"
   ]
  },
  {
   "cell_type": "code",
   "execution_count": 14,
   "metadata": {
    "collapsed": true
   },
   "outputs": [],
   "source": [
    "import bs4\n",
    "from bs4 import BeautifulSoup"
   ]
  },
  {
   "cell_type": "code",
   "execution_count": 15,
   "metadata": {
    "collapsed": false
   },
   "outputs": [],
   "source": [
    "url = 'http://www.imdb.com/chart/bottom?pf_rd_m=A2FGELUUNOQJNL&pf_rd_p=2417962742&pf_rd_r=1DSDJRQVZS781GZZNZRV&pf_rd_s=right-4&pf_rd_t=15506&pf_rd_i=moviemeter&ref_=chtmvm_ql_6'\n",
    "response = requests.get(url)\n",
    "page = response.text\n",
    "soup = BeautifulSoup(page, 'lxml')\n",
    "response\n",
    "\n",
    "titles=[]\n",
    "## Titles from bottom 100 list ##\n",
    "for title in soup.findAll('td', class_='titleColumn'):\n",
    "    titles.append(title.text.strip())\n",
    "\n",
    "bottom_titles = pd.DataFrame(titles, columns=['title'])"
   ]
  },
  {
   "cell_type": "markdown",
   "metadata": {},
   "source": [
    "Clean scraping output so only the Movie title is left in a new \"title2\" field"
   ]
  },
  {
   "cell_type": "code",
   "execution_count": 16,
   "metadata": {
    "collapsed": false
   },
   "outputs": [
    {
     "data": {
      "text/html": [
       "<div>\n",
       "<table border=\"1\" class=\"dataframe\">\n",
       "  <thead>\n",
       "    <tr style=\"text-align: right;\">\n",
       "      <th></th>\n",
       "      <th>title</th>\n",
       "      <th>title2</th>\n",
       "    </tr>\n",
       "  </thead>\n",
       "  <tbody>\n",
       "    <tr>\n",
       "      <th>0</th>\n",
       "      <td>1.\\n      Code Name: K.O.Z.\\n(2015)</td>\n",
       "      <td>Code Name: K.O.Z.</td>\n",
       "    </tr>\n",
       "    <tr>\n",
       "      <th>1</th>\n",
       "      <td>2.\\n      Saving Christmas\\n(2014)</td>\n",
       "      <td>Saving Christmas</td>\n",
       "    </tr>\n",
       "    <tr>\n",
       "      <th>2</th>\n",
       "      <td>3.\\n      Superbabies: Baby Geniuses 2\\n(2004)</td>\n",
       "      <td>Superbabies: Baby Geniuses 2</td>\n",
       "    </tr>\n",
       "    <tr>\n",
       "      <th>3</th>\n",
       "      <td>4.\\n      Daniel der Zauberer\\n(2004)</td>\n",
       "      <td>Daniel der Zauberer</td>\n",
       "    </tr>\n",
       "    <tr>\n",
       "      <th>4</th>\n",
       "      <td>5.\\n      Manos: The Hands of Fate\\n(1966)</td>\n",
       "      <td>Manos: The Hands of Fate</td>\n",
       "    </tr>\n",
       "  </tbody>\n",
       "</table>\n",
       "</div>"
      ],
      "text/plain": [
       "                                            title  \\\n",
       "0             1.\\n      Code Name: K.O.Z.\\n(2015)   \n",
       "1              2.\\n      Saving Christmas\\n(2014)   \n",
       "2  3.\\n      Superbabies: Baby Geniuses 2\\n(2004)   \n",
       "3           4.\\n      Daniel der Zauberer\\n(2004)   \n",
       "4      5.\\n      Manos: The Hands of Fate\\n(1966)   \n",
       "\n",
       "                         title2  \n",
       "0             Code Name: K.O.Z.  \n",
       "1              Saving Christmas  \n",
       "2  Superbabies: Baby Geniuses 2  \n",
       "3           Daniel der Zauberer  \n",
       "4      Manos: The Hands of Fate  "
      ]
     },
     "execution_count": 16,
     "metadata": {},
     "output_type": "execute_result"
    }
   ],
   "source": [
    "bottom_titles['title2'] = bottom_titles['title'].astype(str).str[:-6]\n",
    "bottom_titles['title2'] = bottom_titles['title2'].replace('\\n','',regex=True)\n",
    "bottom_titles['title2'] = bottom_titles['title2'].apply(lambda x: (x.lstrip('0123456789.- ')))\n",
    "bottom_titles.head()"
   ]
  },
  {
   "cell_type": "code",
   "execution_count": 17,
   "metadata": {
    "collapsed": false
   },
   "outputs": [],
   "source": [
    "# Continue to clean Title field\n",
    "bottom_titles['title2'] = bottom_titles['title2'].replace(' ','+',regex=True)\n",
    "bottom_titles['title2'] = bottom_titles['title2'].replace(',','',regex=True)\n",
    "bottom_titles['title2'] = bottom_titles['title2'].replace(':','',regex=True)\n",
    "bottom_titles['title2'] = bottom_titles['title2'].replace('!','',regex=True)\n",
    "bottom_titles['title2'] = bottom_titles['title2'].replace(\"'\",'',regex=True)\n",
    "bottom_titles['title2'] = bottom_titles['title2'].replace('-','',regex=True)"
   ]
  },
  {
   "cell_type": "code",
   "execution_count": 18,
   "metadata": {
    "collapsed": true
   },
   "outputs": [],
   "source": [
    "# Using the same methodology as above, create list of movie titles that will run through JSON code\n",
    "bottom_titles_list = bottom_titles['title2'].tolist()"
   ]
  },
  {
   "cell_type": "code",
   "execution_count": 19,
   "metadata": {
    "collapsed": false
   },
   "outputs": [
    {
     "data": {
      "text/html": [
       "<div>\n",
       "<table border=\"1\" class=\"dataframe\">\n",
       "  <thead>\n",
       "    <tr style=\"text-align: right;\">\n",
       "      <th></th>\n",
       "      <th>title</th>\n",
       "      <th>title2</th>\n",
       "    </tr>\n",
       "  </thead>\n",
       "  <tbody>\n",
       "    <tr>\n",
       "      <th>0</th>\n",
       "      <td>1.\\n      Code Name: K.O.Z.\\n(2015)</td>\n",
       "      <td>Code+Name+K.O.Z.</td>\n",
       "    </tr>\n",
       "    <tr>\n",
       "      <th>1</th>\n",
       "      <td>2.\\n      Saving Christmas\\n(2014)</td>\n",
       "      <td>Saving+Christmas</td>\n",
       "    </tr>\n",
       "    <tr>\n",
       "      <th>2</th>\n",
       "      <td>3.\\n      Superbabies: Baby Geniuses 2\\n(2004)</td>\n",
       "      <td>Superbabies+Baby+Geniuses+2</td>\n",
       "    </tr>\n",
       "  </tbody>\n",
       "</table>\n",
       "</div>"
      ],
      "text/plain": [
       "                                            title                       title2\n",
       "0             1.\\n      Code Name: K.O.Z.\\n(2015)             Code+Name+K.O.Z.\n",
       "1              2.\\n      Saving Christmas\\n(2014)             Saving+Christmas\n",
       "2  3.\\n      Superbabies: Baby Geniuses 2\\n(2004)  Superbabies+Baby+Geniuses+2"
      ]
     },
     "execution_count": 19,
     "metadata": {},
     "output_type": "execute_result"
    }
   ],
   "source": [
    "bottom_titles.head(3)"
   ]
  },
  {
   "cell_type": "code",
   "execution_count": 20,
   "metadata": {
    "collapsed": false
   },
   "outputs": [],
   "source": [
    "bottom100 = pd.DataFrame(columns = ['Plot','Rated','Response','Language','Title','Country','Writer','Metascore',\n",
    "                                 'imdbRating','Director','Released','Actors','Year','Genre','Awards','Runtime','Type',\n",
    "                                 'Poster','imdbVotes','imdbID'])\n",
    "print bottom100\n",
    "\n",
    "for i in bottom_titles_list:\n",
    "    url = \"http://www.omdbapi.com/?t={0}&plot=short&r=json\".format(i)\n",
    "    data = json.load(urllib2.urlopen(url))\n",
    "    df_i = pd.DataFrame.from_dict(data, orient='index')\n",
    "    df_i = df_i.T\n",
    "    bottom100 = bottom100.append(df_i)"
   ]
  },
  {
   "cell_type": "code",
   "execution_count": 21,
   "metadata": {
    "collapsed": false
   },
   "outputs": [
    {
     "data": {
      "text/html": [
       "<div>\n",
       "<table border=\"1\" class=\"dataframe\">\n",
       "  <thead>\n",
       "    <tr style=\"text-align: right;\">\n",
       "      <th></th>\n",
       "      <th>Actors</th>\n",
       "      <th>Awards</th>\n",
       "      <th>Country</th>\n",
       "      <th>Director</th>\n",
       "      <th>Error</th>\n",
       "      <th>Genre</th>\n",
       "      <th>Language</th>\n",
       "      <th>Metascore</th>\n",
       "      <th>Plot</th>\n",
       "      <th>Poster</th>\n",
       "      <th>...</th>\n",
       "      <th>Released</th>\n",
       "      <th>Response</th>\n",
       "      <th>Runtime</th>\n",
       "      <th>Title</th>\n",
       "      <th>Type</th>\n",
       "      <th>Writer</th>\n",
       "      <th>Year</th>\n",
       "      <th>imdbID</th>\n",
       "      <th>imdbRating</th>\n",
       "      <th>imdbVotes</th>\n",
       "    </tr>\n",
       "  </thead>\n",
       "  <tbody>\n",
       "    <tr>\n",
       "      <th>0</th>\n",
       "      <td>Cem Kurtoglu, Hazim Körmükçü, Tolga Karel, Hak...</td>\n",
       "      <td>N/A</td>\n",
       "      <td>Turkey</td>\n",
       "      <td>Celal Çimen</td>\n",
       "      <td>NaN</td>\n",
       "      <td>Crime, Mystery</td>\n",
       "      <td>Turkish</td>\n",
       "      <td>N/A</td>\n",
       "      <td>Political and social processes in recent and c...</td>\n",
       "      <td>http://ia.media-imdb.com/images/M/MV5BMDhkOTQz...</td>\n",
       "      <td>...</td>\n",
       "      <td>13 Feb 2015</td>\n",
       "      <td>True</td>\n",
       "      <td>114 min</td>\n",
       "      <td>Code Name: K.O.Z.</td>\n",
       "      <td>movie</td>\n",
       "      <td>N/A</td>\n",
       "      <td>2015</td>\n",
       "      <td>tt4458206</td>\n",
       "      <td>1.6</td>\n",
       "      <td>17,920</td>\n",
       "    </tr>\n",
       "    <tr>\n",
       "      <th>0</th>\n",
       "      <td>Kirk Cameron, Darren Doane, Bridgette Cameron,...</td>\n",
       "      <td>4 wins &amp; 2 nominations.</td>\n",
       "      <td>USA</td>\n",
       "      <td>Darren Doane</td>\n",
       "      <td>NaN</td>\n",
       "      <td>Comedy, Family</td>\n",
       "      <td>English</td>\n",
       "      <td>18</td>\n",
       "      <td>Kirk is enjoying the annual Christmas party ex...</td>\n",
       "      <td>http://ia.media-imdb.com/images/M/MV5BMTc3MTc3...</td>\n",
       "      <td>...</td>\n",
       "      <td>14 Nov 2014</td>\n",
       "      <td>True</td>\n",
       "      <td>80 min</td>\n",
       "      <td>Saving Christmas</td>\n",
       "      <td>movie</td>\n",
       "      <td>Darren Doane, Cheston Hervey</td>\n",
       "      <td>2014</td>\n",
       "      <td>tt4009460</td>\n",
       "      <td>1.5</td>\n",
       "      <td>11,195</td>\n",
       "    </tr>\n",
       "    <tr>\n",
       "      <th>0</th>\n",
       "      <td>Jon Voight, Scott Baio, Vanessa Angel, Skyler ...</td>\n",
       "      <td>5 nominations.</td>\n",
       "      <td>Germany, UK, USA</td>\n",
       "      <td>Bob Clark</td>\n",
       "      <td>NaN</td>\n",
       "      <td>Comedy, Family, Sci-Fi</td>\n",
       "      <td>English</td>\n",
       "      <td>9</td>\n",
       "      <td>A group of smart-talking toddlers find themsel...</td>\n",
       "      <td>http://ia.media-imdb.com/images/M/MV5BNjY4NjM3...</td>\n",
       "      <td>...</td>\n",
       "      <td>27 Aug 2004</td>\n",
       "      <td>True</td>\n",
       "      <td>88 min</td>\n",
       "      <td>Superbabies: Baby Geniuses 2</td>\n",
       "      <td>movie</td>\n",
       "      <td>Steven Paul (story), Gregory Poppen (screenplay)</td>\n",
       "      <td>2004</td>\n",
       "      <td>tt0270846</td>\n",
       "      <td>1.9</td>\n",
       "      <td>24,996</td>\n",
       "    </tr>\n",
       "  </tbody>\n",
       "</table>\n",
       "<p>3 rows × 21 columns</p>\n",
       "</div>"
      ],
      "text/plain": [
       "                                              Actors                   Awards  \\\n",
       "0  Cem Kurtoglu, Hazim Körmükçü, Tolga Karel, Hak...                      N/A   \n",
       "0  Kirk Cameron, Darren Doane, Bridgette Cameron,...  4 wins & 2 nominations.   \n",
       "0  Jon Voight, Scott Baio, Vanessa Angel, Skyler ...           5 nominations.   \n",
       "\n",
       "            Country      Director Error                   Genre Language  \\\n",
       "0            Turkey   Celal Çimen   NaN          Crime, Mystery  Turkish   \n",
       "0               USA  Darren Doane   NaN          Comedy, Family  English   \n",
       "0  Germany, UK, USA     Bob Clark   NaN  Comedy, Family, Sci-Fi  English   \n",
       "\n",
       "  Metascore                                               Plot  \\\n",
       "0       N/A  Political and social processes in recent and c...   \n",
       "0        18  Kirk is enjoying the annual Christmas party ex...   \n",
       "0         9  A group of smart-talking toddlers find themsel...   \n",
       "\n",
       "                                              Poster    ...        Released  \\\n",
       "0  http://ia.media-imdb.com/images/M/MV5BMDhkOTQz...    ...     13 Feb 2015   \n",
       "0  http://ia.media-imdb.com/images/M/MV5BMTc3MTc3...    ...     14 Nov 2014   \n",
       "0  http://ia.media-imdb.com/images/M/MV5BNjY4NjM3...    ...     27 Aug 2004   \n",
       "\n",
       "  Response  Runtime                         Title   Type  \\\n",
       "0     True  114 min             Code Name: K.O.Z.  movie   \n",
       "0     True   80 min              Saving Christmas  movie   \n",
       "0     True   88 min  Superbabies: Baby Geniuses 2  movie   \n",
       "\n",
       "                                             Writer  Year     imdbID  \\\n",
       "0                                               N/A  2015  tt4458206   \n",
       "0                      Darren Doane, Cheston Hervey  2014  tt4009460   \n",
       "0  Steven Paul (story), Gregory Poppen (screenplay)  2004  tt0270846   \n",
       "\n",
       "  imdbRating imdbVotes  \n",
       "0        1.6    17,920  \n",
       "0        1.5    11,195  \n",
       "0        1.9    24,996  \n",
       "\n",
       "[3 rows x 21 columns]"
      ]
     },
     "execution_count": 21,
     "metadata": {},
     "output_type": "execute_result"
    }
   ],
   "source": [
    "bottom100.head(3)"
   ]
  },
  {
   "cell_type": "code",
   "execution_count": 22,
   "metadata": {
    "collapsed": false
   },
   "outputs": [],
   "source": [
    "bottom100.info()"
   ]
  },
  {
   "cell_type": "code",
   "execution_count": 23,
   "metadata": {
    "collapsed": true
   },
   "outputs": [],
   "source": [
    "# Keep relevant columns so that the Top 250 and Bottom 100 datasets can be stacked\n",
    "bottom100_v2 = bottom100.drop(bottom100.columns[[0,3,7,9,12,15,16,18]], axis=1)"
   ]
  },
  {
   "cell_type": "code",
   "execution_count": 24,
   "metadata": {
    "collapsed": true
   },
   "outputs": [],
   "source": [
    "# Convert Year, imdbRating, and imdbVotes to numeric\n",
    "bottom100_v2['Year'] = bottom100_v2['Year'].convert_objects(convert_numeric=True)\n",
    "bottom100_v2['imdbRating'] = bottom100_v2['imdbRating'].convert_objects(convert_numeric=True)\n",
    "bottom100_v2['imdbVotes'] = bottom100_v2['imdbVotes'].replace(',','',regex=True)\n",
    "bottom100_v2['imdbVotes'] = bottom100_v2['imdbVotes'].convert_objects(convert_numeric=True)"
   ]
  },
  {
   "cell_type": "code",
   "execution_count": 25,
   "metadata": {
    "collapsed": false
   },
   "outputs": [
    {
     "data": {
      "text/html": [
       "<div>\n",
       "<table border=\"1\" class=\"dataframe\">\n",
       "  <thead>\n",
       "    <tr style=\"text-align: right;\">\n",
       "      <th></th>\n",
       "      <th>Awards</th>\n",
       "      <th>Country</th>\n",
       "      <th>Error</th>\n",
       "      <th>Genre</th>\n",
       "      <th>Language</th>\n",
       "      <th>Plot</th>\n",
       "      <th>Rated</th>\n",
       "      <th>Released</th>\n",
       "      <th>Runtime</th>\n",
       "      <th>Title</th>\n",
       "      <th>Year</th>\n",
       "      <th>imdbRating</th>\n",
       "      <th>imdbVotes</th>\n",
       "    </tr>\n",
       "  </thead>\n",
       "  <tbody>\n",
       "    <tr>\n",
       "      <th>0</th>\n",
       "      <td>Nominated for 7 Oscars. Another 15 wins &amp; 21 n...</td>\n",
       "      <td>USA</td>\n",
       "      <td>NaN</td>\n",
       "      <td>Crime, Drama</td>\n",
       "      <td>English</td>\n",
       "      <td>Two imprisoned men bond over a number of years...</td>\n",
       "      <td>R</td>\n",
       "      <td>14 Oct 1994</td>\n",
       "      <td>142 min</td>\n",
       "      <td>The Shawshank Redemption</td>\n",
       "      <td>1994.0</td>\n",
       "      <td>9.3</td>\n",
       "      <td>1668622.0</td>\n",
       "    </tr>\n",
       "    <tr>\n",
       "      <th>0</th>\n",
       "      <td>Won 3 Oscars. Another 23 wins &amp; 27 nominations.</td>\n",
       "      <td>USA</td>\n",
       "      <td>NaN</td>\n",
       "      <td>Crime, Drama</td>\n",
       "      <td>English, Italian, Latin</td>\n",
       "      <td>The aging patriarch of an organized crime dyna...</td>\n",
       "      <td>R</td>\n",
       "      <td>24 Mar 1972</td>\n",
       "      <td>175 min</td>\n",
       "      <td>The Godfather</td>\n",
       "      <td>1972.0</td>\n",
       "      <td>9.2</td>\n",
       "      <td>1140778.0</td>\n",
       "    </tr>\n",
       "    <tr>\n",
       "      <th>0</th>\n",
       "      <td>Won 6 Oscars. Another 10 wins &amp; 20 nominations.</td>\n",
       "      <td>USA</td>\n",
       "      <td>NaN</td>\n",
       "      <td>Crime, Drama</td>\n",
       "      <td>English, Italian, Spanish, Latin, Sicilian</td>\n",
       "      <td>The early life and career of Vito Corleone in ...</td>\n",
       "      <td>R</td>\n",
       "      <td>20 Dec 1974</td>\n",
       "      <td>202 min</td>\n",
       "      <td>The Godfather: Part II</td>\n",
       "      <td>1974.0</td>\n",
       "      <td>9.0</td>\n",
       "      <td>784338.0</td>\n",
       "    </tr>\n",
       "  </tbody>\n",
       "</table>\n",
       "</div>"
      ],
      "text/plain": [
       "                                              Awards Country Error  \\\n",
       "0  Nominated for 7 Oscars. Another 15 wins & 21 n...     USA   NaN   \n",
       "0    Won 3 Oscars. Another 23 wins & 27 nominations.     USA   NaN   \n",
       "0    Won 6 Oscars. Another 10 wins & 20 nominations.     USA   NaN   \n",
       "\n",
       "          Genre                                    Language  \\\n",
       "0  Crime, Drama                                     English   \n",
       "0  Crime, Drama                     English, Italian, Latin   \n",
       "0  Crime, Drama  English, Italian, Spanish, Latin, Sicilian   \n",
       "\n",
       "                                                Plot Rated     Released  \\\n",
       "0  Two imprisoned men bond over a number of years...     R  14 Oct 1994   \n",
       "0  The aging patriarch of an organized crime dyna...     R  24 Mar 1972   \n",
       "0  The early life and career of Vito Corleone in ...     R  20 Dec 1974   \n",
       "\n",
       "   Runtime                     Title    Year  imdbRating  imdbVotes  \n",
       "0  142 min  The Shawshank Redemption  1994.0         9.3  1668622.0  \n",
       "0  175 min             The Godfather  1972.0         9.2  1140778.0  \n",
       "0  202 min    The Godfather: Part II  1974.0         9.0   784338.0  "
      ]
     },
     "execution_count": 25,
     "metadata": {},
     "output_type": "execute_result"
    }
   ],
   "source": [
    "top250_v2.head(3)"
   ]
  },
  {
   "cell_type": "code",
   "execution_count": 26,
   "metadata": {
    "collapsed": false
   },
   "outputs": [
    {
     "data": {
      "text/html": [
       "<div>\n",
       "<table border=\"1\" class=\"dataframe\">\n",
       "  <thead>\n",
       "    <tr style=\"text-align: right;\">\n",
       "      <th></th>\n",
       "      <th>Awards</th>\n",
       "      <th>Country</th>\n",
       "      <th>Error</th>\n",
       "      <th>Genre</th>\n",
       "      <th>Language</th>\n",
       "      <th>Plot</th>\n",
       "      <th>Rated</th>\n",
       "      <th>Released</th>\n",
       "      <th>Runtime</th>\n",
       "      <th>Title</th>\n",
       "      <th>Year</th>\n",
       "      <th>imdbRating</th>\n",
       "      <th>imdbVotes</th>\n",
       "    </tr>\n",
       "  </thead>\n",
       "  <tbody>\n",
       "    <tr>\n",
       "      <th>0</th>\n",
       "      <td>N/A</td>\n",
       "      <td>Turkey</td>\n",
       "      <td>NaN</td>\n",
       "      <td>Crime, Mystery</td>\n",
       "      <td>Turkish</td>\n",
       "      <td>Political and social processes in recent and c...</td>\n",
       "      <td>N/A</td>\n",
       "      <td>13 Feb 2015</td>\n",
       "      <td>114 min</td>\n",
       "      <td>Code Name: K.O.Z.</td>\n",
       "      <td>2015.0</td>\n",
       "      <td>1.6</td>\n",
       "      <td>17920.0</td>\n",
       "    </tr>\n",
       "    <tr>\n",
       "      <th>0</th>\n",
       "      <td>4 wins &amp; 2 nominations.</td>\n",
       "      <td>USA</td>\n",
       "      <td>NaN</td>\n",
       "      <td>Comedy, Family</td>\n",
       "      <td>English</td>\n",
       "      <td>Kirk is enjoying the annual Christmas party ex...</td>\n",
       "      <td>PG</td>\n",
       "      <td>14 Nov 2014</td>\n",
       "      <td>80 min</td>\n",
       "      <td>Saving Christmas</td>\n",
       "      <td>2014.0</td>\n",
       "      <td>1.5</td>\n",
       "      <td>11195.0</td>\n",
       "    </tr>\n",
       "    <tr>\n",
       "      <th>0</th>\n",
       "      <td>5 nominations.</td>\n",
       "      <td>Germany, UK, USA</td>\n",
       "      <td>NaN</td>\n",
       "      <td>Comedy, Family, Sci-Fi</td>\n",
       "      <td>English</td>\n",
       "      <td>A group of smart-talking toddlers find themsel...</td>\n",
       "      <td>PG</td>\n",
       "      <td>27 Aug 2004</td>\n",
       "      <td>88 min</td>\n",
       "      <td>Superbabies: Baby Geniuses 2</td>\n",
       "      <td>2004.0</td>\n",
       "      <td>1.9</td>\n",
       "      <td>24996.0</td>\n",
       "    </tr>\n",
       "  </tbody>\n",
       "</table>\n",
       "</div>"
      ],
      "text/plain": [
       "                    Awards           Country Error                   Genre  \\\n",
       "0                      N/A            Turkey   NaN          Crime, Mystery   \n",
       "0  4 wins & 2 nominations.               USA   NaN          Comedy, Family   \n",
       "0           5 nominations.  Germany, UK, USA   NaN  Comedy, Family, Sci-Fi   \n",
       "\n",
       "  Language                                               Plot Rated  \\\n",
       "0  Turkish  Political and social processes in recent and c...   N/A   \n",
       "0  English  Kirk is enjoying the annual Christmas party ex...    PG   \n",
       "0  English  A group of smart-talking toddlers find themsel...    PG   \n",
       "\n",
       "      Released  Runtime                         Title    Year  imdbRating  \\\n",
       "0  13 Feb 2015  114 min             Code Name: K.O.Z.  2015.0         1.6   \n",
       "0  14 Nov 2014   80 min              Saving Christmas  2014.0         1.5   \n",
       "0  27 Aug 2004   88 min  Superbabies: Baby Geniuses 2  2004.0         1.9   \n",
       "\n",
       "   imdbVotes  \n",
       "0    17920.0  \n",
       "0    11195.0  \n",
       "0    24996.0  "
      ]
     },
     "execution_count": 26,
     "metadata": {},
     "output_type": "execute_result"
    }
   ],
   "source": [
    "bottom100_v2.head(3)"
   ]
  },
  {
   "cell_type": "markdown",
   "metadata": {},
   "source": [
    "Create master movies dataset"
   ]
  },
  {
   "cell_type": "code",
   "execution_count": 27,
   "metadata": {
    "collapsed": false
   },
   "outputs": [],
   "source": [
    "all_movies = pd.concat([top250_v2,bottom100_v2])"
   ]
  },
  {
   "cell_type": "markdown",
   "metadata": {},
   "source": [
    "Perform various data checks on master dataset"
   ]
  },
  {
   "cell_type": "code",
   "execution_count": 28,
   "metadata": {
    "collapsed": false
   },
   "outputs": [
    {
     "data": {
      "text/plain": [
       "R            121\n",
       "PG            56\n",
       "PG-13         51\n",
       "NOT RATED     38\n",
       "N/A           23\n",
       "G             14\n",
       "UNRATED       13\n",
       "APPROVED      12\n",
       "PASSED         3\n",
       "X              1\n",
       "TV-MA          1\n",
       "M              1\n",
       "Name: Rated, dtype: int64"
      ]
     },
     "execution_count": 28,
     "metadata": {},
     "output_type": "execute_result"
    }
   ],
   "source": [
    "all_movies['Rated'].value_counts()"
   ]
  },
  {
   "cell_type": "code",
   "execution_count": 29,
   "metadata": {
    "collapsed": false
   },
   "outputs": [
    {
     "data": {
      "text/plain": [
       "1994.0"
      ]
     },
     "execution_count": 29,
     "metadata": {},
     "output_type": "execute_result"
    }
   ],
   "source": [
    "all_movies['Year'].median()"
   ]
  },
  {
   "cell_type": "code",
   "execution_count": 30,
   "metadata": {
    "collapsed": false
   },
   "outputs": [
    {
     "data": {
      "text/plain": [
       "8.2"
      ]
     },
     "execution_count": 30,
     "metadata": {},
     "output_type": "execute_result"
    }
   ],
   "source": [
    "all_movies['imdbRating'].median()"
   ]
  },
  {
   "cell_type": "markdown",
   "metadata": {},
   "source": [
    "Create Dummies and alternate model features"
   ]
  },
  {
   "cell_type": "code",
   "execution_count": 31,
   "metadata": {
    "collapsed": false
   },
   "outputs": [],
   "source": [
    "all_movies['Rating_dummy'] = np.where(all_movies['Rated']=='R', 1, 0)"
   ]
  },
  {
   "cell_type": "code",
   "execution_count": 32,
   "metadata": {
    "collapsed": true
   },
   "outputs": [],
   "source": [
    "all_movies['length'] = all_movies['Runtime']\n",
    "all_movies['length'] = all_movies['length'].astype(str).replace(' min','',regex=True)\n",
    "all_movies['length'] = all_movies['length'].convert_objects(convert_numeric=True)"
   ]
  },
  {
   "cell_type": "code",
   "execution_count": 33,
   "metadata": {
    "collapsed": false
   },
   "outputs": [
    {
     "data": {
      "text/plain": [
       "116.0"
      ]
     },
     "execution_count": 33,
     "metadata": {},
     "output_type": "execute_result"
    }
   ],
   "source": [
    "all_movies['length'].median()"
   ]
  },
  {
   "cell_type": "code",
   "execution_count": 35,
   "metadata": {
    "collapsed": true
   },
   "outputs": [],
   "source": [
    "# Remove movies that were not found\n",
    "all_movies_v2 = all_movies[pd.notnull(all_movies['Language'])]"
   ]
  },
  {
   "cell_type": "code",
   "execution_count": 36,
   "metadata": {
    "collapsed": false
   },
   "outputs": [],
   "source": [
    "# Create count for the number of languages spoken in a movie\n",
    "all_movies_v2['lang_count'] = all_movies_v2['Language'].apply(lambda x: str.count(str(x).encode('ascii', 'ignore'), ',')+1)"
   ]
  },
  {
   "cell_type": "code",
   "execution_count": 37,
   "metadata": {
    "collapsed": true
   },
   "outputs": [],
   "source": [
    "# Create count for the number of genres the movie identifies with\n",
    "all_movies_v2['genre_count'] = all_movies_v2['Genre'].apply(lambda x: str.count(str(x).encode('ascii', 'ignore'), ',')+1)"
   ]
  },
  {
   "cell_type": "code",
   "execution_count": 38,
   "metadata": {
    "collapsed": true
   },
   "outputs": [],
   "source": [
    "# Create flag for whether the movie was released during \"Oscar Season\"\n",
    "def oscar_bait(x):\n",
    "    if 'Oct' in x:\n",
    "        return 1\n",
    "    elif 'Nov' in x:\n",
    "        return 1\n",
    "    elif 'Dec' in x:\n",
    "        return 1\n",
    "    else:\n",
    "        return 0"
   ]
  },
  {
   "cell_type": "code",
   "execution_count": 39,
   "metadata": {
    "collapsed": false
   },
   "outputs": [],
   "source": [
    "all_movies_v2['oscar_bait_flag'] = all_movies_v2['Released'].apply(oscar_bait)"
   ]
  },
  {
   "cell_type": "code",
   "execution_count": 40,
   "metadata": {
    "collapsed": false
   },
   "outputs": [],
   "source": [
    "# Create target variable\n",
    "all_movies_v2['top250_flag'] = all_movies_v2['imdbRating'].apply(lambda x: 1 if x > 7 else 0)"
   ]
  },
  {
   "cell_type": "code",
   "execution_count": 41,
   "metadata": {
    "collapsed": true
   },
   "outputs": [],
   "source": [
    "# Remove movies with obviously incorrect imdbRatings from scraping issue\n",
    "all_movies_v2 = all_movies_v2[((all_movies_v2['imdbRating'] < 3) | (all_movies_v2['imdbRating'] > 7))]"
   ]
  },
  {
   "cell_type": "markdown",
   "metadata": {
    "collapsed": true
   },
   "source": [
    "Visualize the data"
   ]
  },
  {
   "cell_type": "code",
   "execution_count": 79,
   "metadata": {
    "collapsed": false
   },
   "outputs": [
    {
     "data": {
      "text/plain": [
       "<matplotlib.text.Text at 0x11cc40990>"
      ]
     },
     "execution_count": 79,
     "metadata": {},
     "output_type": "execute_result"
    },
    {
     "data": {
      "image/png": "[encoded data removed]",
      "text/plain": [
       "<matplotlib.figure.Figure at 0x11d1b2e10>"
      ]
     },
     "metadata": {},
     "output_type": "display_data"
    }
   ],
   "source": [
    "# Year vs. Rating scatterplot\n",
    "plt.scatter(all_movies_v2['Year'],all_movies_v2['imdbRating'])\n",
    "plt.xlabel('Year')\n",
    "plt.ylabel('IMDb Rating')"
   ]
  },
  {
   "cell_type": "code",
   "execution_count": 76,
   "metadata": {
    "collapsed": false
   },
   "outputs": [
    {
     "data": {
      "text/plain": [
       "<matplotlib.text.Text at 0x11cc27d90>"
      ]
     },
     "execution_count": 76,
     "metadata": {},
     "output_type": "execute_result"
    },
    {
     "data": {
      "image/png": "[encoded data removed]",
      "text/plain": [
       "<matplotlib.figure.Figure at 0x11c981e90>"
      ]
     },
     "metadata": {},
     "output_type": "display_data"
    }
   ],
   "source": [
    "# Year vs. Length scatterplot\n",
    "plt.scatter(all_movies_v2['Year'],all_movies_v2['length'])\n",
    "plt.xlabel('Year')\n",
    "plt.ylabel('Movie Length (Min)')"
   ]
  },
  {
   "cell_type": "code",
   "execution_count": 77,
   "metadata": {
    "collapsed": false
   },
   "outputs": [
    {
     "data": {
      "text/plain": [
       "<matplotlib.text.Text at 0x11d023390>"
      ]
     },
     "execution_count": 77,
     "metadata": {},
     "output_type": "execute_result"
    },
    {
     "data": {
      "image/png": "[encoded data removed]",
      "text/plain": [
       "<matplotlib.figure.Figure at 0x11ce1e590>"
      ]
     },
     "metadata": {},
     "output_type": "display_data"
    }
   ],
   "source": [
    "# Year vs. Votes scatterplot \n",
    "plt.scatter(all_movies_v2['Year'],all_movies_v2['imdbVotes'])\n",
    "plt.xlabel('Year')\n",
    "plt.ylabel('IMDb Votes')"
   ]
  },
  {
   "cell_type": "code",
   "execution_count": 78,
   "metadata": {
    "collapsed": false
   },
   "outputs": [
    {
     "data": {
      "text/plain": [
       "<matplotlib.text.Text at 0x11d189890>"
      ]
     },
     "execution_count": 78,
     "metadata": {},
     "output_type": "execute_result"
    },
    {
     "data": {
      "image/png": "[encoded data removed]",
      "text/plain": [
       "<matplotlib.figure.Figure at 0x11d0a6a10>"
      ]
     },
     "metadata": {},
     "output_type": "display_data"
    }
   ],
   "source": [
    "# Votes vs. IMDb Rating scatterplot\n",
    "plt.scatter(all_movies_v2['imdbVotes'],all_movies_v2['imdbRating'])\n",
    "plt.xlabel('IMDb Votes')\n",
    "plt.ylabel('IMDb Rating')"
   ]
  },
  {
   "cell_type": "code",
   "execution_count": 46,
   "metadata": {
    "collapsed": false
   },
   "outputs": [
    {
     "data": {
      "text/plain": [
       "<matplotlib.text.Text at 0x11c24ff10>"
      ]
     },
     "execution_count": 46,
     "metadata": {},
     "output_type": "execute_result"
    },
    {
     "data": {
      "image/png": "[encoded data removed]",
      "text/plain": [
       "<matplotlib.figure.Figure at 0x11c164690>"
      ]
     },
     "metadata": {},
     "output_type": "display_data"
    }
   ],
   "source": [
    "# Year Histogram\n",
    "all_movies_v2['Year'].hist()\n",
    "plt.ylabel('Number of Movies')\n",
    "plt.xlabel('Year')\n",
    "plt.title('Movie Year Histogram')"
   ]
  },
  {
   "cell_type": "code",
   "execution_count": 47,
   "metadata": {
    "collapsed": false
   },
   "outputs": [
    {
     "data": {
      "text/plain": [
       "<matplotlib.text.Text at 0x11c75bc50>"
      ]
     },
     "execution_count": 47,
     "metadata": {},
     "output_type": "execute_result"
    },
    {
     "data": {
      "image/png": "[encoded data removed]",
      "text/plain": [
       "<matplotlib.figure.Figure at 0x11c70cc50>"
      ]
     },
     "metadata": {},
     "output_type": "display_data"
    }
   ],
   "source": [
    "# Rating Histogram\n",
    "all_movies_v2['imdbRating'].hist()\n",
    "plt.ylabel('Number of Movies')\n",
    "plt.xlabel('IMDb Rating')\n",
    "plt.title('Movie Rating Histogram')"
   ]
  },
  {
   "cell_type": "markdown",
   "metadata": {},
   "source": [
    "MODEL TRIALS"
   ]
  },
  {
   "cell_type": "code",
   "execution_count": 84,
   "metadata": {
    "collapsed": true
   },
   "outputs": [],
   "source": [
    "# Set Features and Target\n",
    "X = all_movies_v2.drop(all_movies_v2.columns[[0,1,2,3,4,5,6,7,8,9,11,18]], axis=1)\n",
    "y = all_movies_v2['top250_flag']"
   ]
  },
  {
   "cell_type": "code",
   "execution_count": 85,
   "metadata": {
    "collapsed": true
   },
   "outputs": [],
   "source": [
    "# Set up Train, Test, Split\n",
    "from sklearn.cross_validation import train_test_split\n",
    "X_train, X_test, y_train, y_test = train_test_split(X, y, test_size= 0.3, random_state=42)"
   ]
  },
  {
   "cell_type": "code",
   "execution_count": 86,
   "metadata": {
    "collapsed": false
   },
   "outputs": [
    {
     "data": {
      "text/plain": [
       "DecisionTreeClassifier(class_weight=None, criterion='gini', max_depth=None,\n",
       "            max_features=None, max_leaf_nodes=None, min_samples_leaf=1,\n",
       "            min_samples_split=2, min_weight_fraction_leaf=0.0,\n",
       "            presort=False, random_state=1, splitter='best')"
      ]
     },
     "execution_count": 86,
     "metadata": {},
     "output_type": "execute_result"
    }
   ],
   "source": [
    "# Run DecisionTreeClassifier Model:\n",
    "from sklearn.tree import DecisionTreeClassifier\n",
    "treeclass = DecisionTreeClassifier(random_state=1)\n",
    "treeclass.fit(X_train, y_train)"
   ]
  },
  {
   "cell_type": "code",
   "execution_count": 87,
   "metadata": {
    "collapsed": true
   },
   "outputs": [],
   "source": [
    "# Predict on test Using DecisionTreeClassifier Model\n",
    "preds = treeclass.predict(X_test)"
   ]
  },
  {
   "cell_type": "code",
   "execution_count": 88,
   "metadata": {
    "collapsed": false
   },
   "outputs": [
    {
     "data": {
      "text/plain": [
       "array([[20,  3],\n",
       "       [ 0, 75]])"
      ]
     },
     "execution_count": 88,
     "metadata": {},
     "output_type": "execute_result"
    }
   ],
   "source": [
    "# Create confusion matrix using Test set vs Predicted\n",
    "cm = confusion_matrix(y_test, preds)\n",
    "cm"
   ]
  },
  {
   "cell_type": "code",
   "execution_count": 89,
   "metadata": {
    "collapsed": false
   },
   "outputs": [
    {
     "data": {
      "text/plain": [
       "0.96295515640273721"
      ]
     },
     "execution_count": 89,
     "metadata": {},
     "output_type": "execute_result"
    }
   ],
   "source": [
    "# Print Cross Val Score\n",
    "cross_val_score(treeclass, X, y, cv=10, n_jobs=-1).mean()"
   ]
  },
  {
   "cell_type": "code",
   "execution_count": 90,
   "metadata": {
    "collapsed": false
   },
   "outputs": [],
   "source": [
    "# Try same DecisionTreeModel using bagging\n",
    "treeclass = DecisionTreeClassifier()\n",
    "bagger = BaggingClassifier(treeclass)"
   ]
  },
  {
   "cell_type": "code",
   "execution_count": 91,
   "metadata": {
    "collapsed": false
   },
   "outputs": [
    {
     "data": {
      "text/plain": [
       "BaggingClassifier(base_estimator=DecisionTreeClassifier(class_weight=None, criterion='gini', max_depth=None,\n",
       "            max_features=None, max_leaf_nodes=None, min_samples_leaf=1,\n",
       "            min_samples_split=2, min_weight_fraction_leaf=0.0,\n",
       "            presort=False, random_state=None, splitter='best'),\n",
       "         bootstrap=True, bootstrap_features=False, max_features=1.0,\n",
       "         max_samples=1.0, n_estimators=10, n_jobs=1, oob_score=False,\n",
       "         random_state=None, verbose=0, warm_start=False)"
      ]
     },
     "execution_count": 91,
     "metadata": {},
     "output_type": "execute_result"
    }
   ],
   "source": [
    "# Fit bagger on train data\n",
    "bagger.fit(X_train, y_train)"
   ]
  },
  {
   "cell_type": "code",
   "execution_count": 92,
   "metadata": {
    "collapsed": true
   },
   "outputs": [],
   "source": [
    "# Predict bagger on test dataset\n",
    "bagger_preds = bagger.predict(X_test)"
   ]
  },
  {
   "cell_type": "code",
   "execution_count": 93,
   "metadata": {
    "collapsed": false
   },
   "outputs": [
    {
     "data": {
      "text/plain": [
       "array([[21,  2],\n",
       "       [ 0, 75]])"
      ]
     },
     "execution_count": 93,
     "metadata": {},
     "output_type": "execute_result"
    }
   ],
   "source": [
    "# Create bagger confusion matrix\n",
    "cm_bagger = confusion_matrix(y_test, bagger_preds)\n",
    "cm_bagger"
   ]
  },
  {
   "cell_type": "code",
   "execution_count": 94,
   "metadata": {
    "collapsed": false
   },
   "outputs": [
    {
     "data": {
      "text/plain": [
       "0.96608015640273714"
      ]
     },
     "execution_count": 94,
     "metadata": {},
     "output_type": "execute_result"
    }
   ],
   "source": [
    "# Print bagger cross val score\n",
    "cross_val_score(bagger, X, y, cv=10, n_jobs=-1).mean()"
   ]
  },
  {
   "cell_type": "code",
   "execution_count": 95,
   "metadata": {
    "collapsed": true
   },
   "outputs": [],
   "source": [
    "from sklearn.ensemble import RandomForestClassifier, ExtraTreesClassifier"
   ]
  },
  {
   "cell_type": "code",
   "execution_count": 96,
   "metadata": {
    "collapsed": true
   },
   "outputs": [],
   "source": [
    "# Use RandomForest and ExtraTrees Models\n",
    "rf = RandomForestClassifier(class_weight='balanced', n_jobs=-1)\n",
    "et = ExtraTreesClassifier(class_weight='balanced', n_jobs=-1)"
   ]
  },
  {
   "cell_type": "markdown",
   "metadata": {},
   "source": [
    "Fit Random Forest Model on Train/Test sets"
   ]
  },
  {
   "cell_type": "code",
   "execution_count": 97,
   "metadata": {
    "collapsed": false
   },
   "outputs": [
    {
     "data": {
      "text/plain": [
       "RandomForestClassifier(bootstrap=True, class_weight='balanced',\n",
       "            criterion='gini', max_depth=None, max_features='auto',\n",
       "            max_leaf_nodes=None, min_samples_leaf=1, min_samples_split=2,\n",
       "            min_weight_fraction_leaf=0.0, n_estimators=10, n_jobs=-1,\n",
       "            oob_score=False, random_state=None, verbose=0,\n",
       "            warm_start=False)"
      ]
     },
     "execution_count": 97,
     "metadata": {},
     "output_type": "execute_result"
    }
   ],
   "source": [
    "rf.fit(X_train, y_train)"
   ]
  },
  {
   "cell_type": "code",
   "execution_count": 98,
   "metadata": {
    "collapsed": true
   },
   "outputs": [],
   "source": [
    "rf_preds = rf.predict(X_test)"
   ]
  },
  {
   "cell_type": "code",
   "execution_count": 99,
   "metadata": {
    "collapsed": false
   },
   "outputs": [
    {
     "data": {
      "text/plain": [
       "array([[22,  1],\n",
       "       [ 0, 75]])"
      ]
     },
     "execution_count": 99,
     "metadata": {},
     "output_type": "execute_result"
    }
   ],
   "source": [
    "cm_rf = confusion_matrix(y_test, rf_preds)\n",
    "cm_rf"
   ]
  },
  {
   "cell_type": "code",
   "execution_count": 100,
   "metadata": {
    "collapsed": false,
    "scrolled": true
   },
   "outputs": [
    {
     "data": {
      "text/plain": [
       "0.97536656891495599"
      ]
     },
     "execution_count": 100,
     "metadata": {},
     "output_type": "execute_result"
    }
   ],
   "source": [
    "cross_val_score(rf, X, y, cv=10, n_jobs=-1).mean()"
   ]
  },
  {
   "cell_type": "code",
   "execution_count": 106,
   "metadata": {
    "collapsed": false
   },
   "outputs": [
    {
     "data": {
      "text/html": [
       "<div>\n",
       "<table border=\"1\" class=\"dataframe\">\n",
       "  <thead>\n",
       "    <tr style=\"text-align: right;\">\n",
       "      <th></th>\n",
       "      <th>importance</th>\n",
       "    </tr>\n",
       "  </thead>\n",
       "  <tbody>\n",
       "    <tr>\n",
       "      <th>imdbVotes</th>\n",
       "      <td>0.603647</td>\n",
       "    </tr>\n",
       "    <tr>\n",
       "      <th>length</th>\n",
       "      <td>0.210050</td>\n",
       "    </tr>\n",
       "    <tr>\n",
       "      <th>Year</th>\n",
       "      <td>0.080070</td>\n",
       "    </tr>\n",
       "    <tr>\n",
       "      <th>lang_count</th>\n",
       "      <td>0.072764</td>\n",
       "    </tr>\n",
       "    <tr>\n",
       "      <th>genre_count</th>\n",
       "      <td>0.022118</td>\n",
       "    </tr>\n",
       "    <tr>\n",
       "      <th>oscar_bait_flag</th>\n",
       "      <td>0.008785</td>\n",
       "    </tr>\n",
       "    <tr>\n",
       "      <th>Rating_dummy</th>\n",
       "      <td>0.002566</td>\n",
       "    </tr>\n",
       "  </tbody>\n",
       "</table>\n",
       "</div>"
      ],
      "text/plain": [
       "                 importance\n",
       "imdbVotes          0.603647\n",
       "length             0.210050\n",
       "Year               0.080070\n",
       "lang_count         0.072764\n",
       "genre_count        0.022118\n",
       "oscar_bait_flag    0.008785\n",
       "Rating_dummy       0.002566"
      ]
     },
     "execution_count": 106,
     "metadata": {},
     "output_type": "execute_result"
    }
   ],
   "source": [
    "# Print feature importance\n",
    "feature_importances = pd.DataFrame(rf.feature_importances_,\n",
    "                                   index = X.columns,\n",
    "                                    columns=['importance']).sort_values('importance',\n",
    "                                                                        ascending=False)\n",
    "feature_importances.head(10)"
   ]
  },
  {
   "cell_type": "markdown",
   "metadata": {},
   "source": [
    "Fit Extra Trees Model on Train/Test sets"
   ]
  },
  {
   "cell_type": "code",
   "execution_count": 101,
   "metadata": {
    "collapsed": false
   },
   "outputs": [
    {
     "data": {
      "text/plain": [
       "ExtraTreesClassifier(bootstrap=False, class_weight='balanced',\n",
       "           criterion='gini', max_depth=None, max_features='auto',\n",
       "           max_leaf_nodes=None, min_samples_leaf=1, min_samples_split=2,\n",
       "           min_weight_fraction_leaf=0.0, n_estimators=10, n_jobs=-1,\n",
       "           oob_score=False, random_state=None, verbose=0, warm_start=False)"
      ]
     },
     "execution_count": 101,
     "metadata": {},
     "output_type": "execute_result"
    }
   ],
   "source": [
    "et.fit(X_train, y_train)"
   ]
  },
  {
   "cell_type": "code",
   "execution_count": 103,
   "metadata": {
    "collapsed": false
   },
   "outputs": [],
   "source": [
    "et_preds = et.predict(X_test)"
   ]
  },
  {
   "cell_type": "code",
   "execution_count": 104,
   "metadata": {
    "collapsed": false
   },
   "outputs": [
    {
     "data": {
      "text/plain": [
       "array([[22,  1],\n",
       "       [ 0, 75]])"
      ]
     },
     "execution_count": 104,
     "metadata": {},
     "output_type": "execute_result"
    }
   ],
   "source": [
    "cm_et = confusion_matrix(y_test, et_preds)\n",
    "cm_et"
   ]
  },
  {
   "cell_type": "code",
   "execution_count": 105,
   "metadata": {
    "collapsed": false
   },
   "outputs": [
    {
     "data": {
      "text/plain": [
       "0.95992485337243405"
      ]
     },
     "execution_count": 105,
     "metadata": {},
     "output_type": "execute_result"
    }
   ],
   "source": [
    "cross_val_score(et, X, y, cv=10, n_jobs=-1).mean()"
   ]
  },
  {
   "cell_type": "code",
   "execution_count": 107,
   "metadata": {
    "collapsed": false
   },
   "outputs": [
    {
     "data": {
      "text/html": [
       "<div>\n",
       "<table border=\"1\" class=\"dataframe\">\n",
       "  <thead>\n",
       "    <tr style=\"text-align: right;\">\n",
       "      <th></th>\n",
       "      <th>importance</th>\n",
       "    </tr>\n",
       "  </thead>\n",
       "  <tbody>\n",
       "    <tr>\n",
       "      <th>imdbVotes</th>\n",
       "      <td>0.454534</td>\n",
       "    </tr>\n",
       "    <tr>\n",
       "      <th>length</th>\n",
       "      <td>0.184652</td>\n",
       "    </tr>\n",
       "    <tr>\n",
       "      <th>lang_count</th>\n",
       "      <td>0.180314</td>\n",
       "    </tr>\n",
       "    <tr>\n",
       "      <th>Year</th>\n",
       "      <td>0.117288</td>\n",
       "    </tr>\n",
       "    <tr>\n",
       "      <th>genre_count</th>\n",
       "      <td>0.037078</td>\n",
       "    </tr>\n",
       "    <tr>\n",
       "      <th>oscar_bait_flag</th>\n",
       "      <td>0.015112</td>\n",
       "    </tr>\n",
       "    <tr>\n",
       "      <th>Rating_dummy</th>\n",
       "      <td>0.011022</td>\n",
       "    </tr>\n",
       "  </tbody>\n",
       "</table>\n",
       "</div>"
      ],
      "text/plain": [
       "                 importance\n",
       "imdbVotes          0.454534\n",
       "length             0.184652\n",
       "lang_count         0.180314\n",
       "Year               0.117288\n",
       "genre_count        0.037078\n",
       "oscar_bait_flag    0.015112\n",
       "Rating_dummy       0.011022"
      ]
     },
     "execution_count": 107,
     "metadata": {},
     "output_type": "execute_result"
    }
   ],
   "source": [
    "feature_importances = pd.DataFrame(et.feature_importances_,\n",
    "                                   index = X.columns,\n",
    "                                    columns=['importance']).sort_values('importance',\n",
    "                                                                        ascending=False)\n",
    "feature_importances.head(10)"
   ]
  },
  {
   "cell_type": "markdown",
   "metadata": {},
   "source": [
    "Run all models again without imdbVotes variable because of potential multicollinearity between year/imdbVotes and imdbRating/imdbVotes"
   ]
  },
  {
   "cell_type": "code",
   "execution_count": 112,
   "metadata": {
    "collapsed": true
   },
   "outputs": [],
   "source": [
    "# Set Features and Target\n",
    "X_v2 = X.drop(X.columns[1], axis=1)\n",
    "y = all_movies_v2['top250_flag']"
   ]
  },
  {
   "cell_type": "code",
   "execution_count": 113,
   "metadata": {
    "collapsed": true
   },
   "outputs": [],
   "source": [
    "# Set up Train, Test, Split\n",
    "from sklearn.cross_validation import train_test_split\n",
    "X_train, X_test, y_train, y_test = train_test_split(X_v2, y, test_size= 0.3, random_state=42)"
   ]
  },
  {
   "cell_type": "code",
   "execution_count": 116,
   "metadata": {
    "collapsed": false
   },
   "outputs": [
    {
     "data": {
      "text/plain": [
       "DecisionTreeClassifier(class_weight=None, criterion='gini', max_depth=None,\n",
       "            max_features=None, max_leaf_nodes=None, min_samples_leaf=1,\n",
       "            min_samples_split=2, min_weight_fraction_leaf=0.0,\n",
       "            presort=False, random_state=1, splitter='best')"
      ]
     },
     "execution_count": 116,
     "metadata": {},
     "output_type": "execute_result"
    }
   ],
   "source": [
    "# Run DecisionTreeClassifier Model:\n",
    "from sklearn.tree import DecisionTreeClassifier\n",
    "treeclass_v2 = DecisionTreeClassifier(random_state=1)\n",
    "treeclass_v2.fit(X_train, y_train)"
   ]
  },
  {
   "cell_type": "code",
   "execution_count": 117,
   "metadata": {
    "collapsed": false
   },
   "outputs": [],
   "source": [
    "# Predict Using DecisionTreeClassifier Model\n",
    "preds_v2 = treeclass_v2.predict(X_test)"
   ]
  },
  {
   "cell_type": "code",
   "execution_count": 118,
   "metadata": {
    "collapsed": false
   },
   "outputs": [
    {
     "data": {
      "text/plain": [
       "array([[16,  7],\n",
       "       [ 4, 71]])"
      ]
     },
     "execution_count": 118,
     "metadata": {},
     "output_type": "execute_result"
    }
   ],
   "source": [
    "# Create confusion matrix using Test set vs Predicted\n",
    "cm_v2 = confusion_matrix(y_test, preds_v2)\n",
    "cm_v2"
   ]
  },
  {
   "cell_type": "code",
   "execution_count": 119,
   "metadata": {
    "collapsed": false
   },
   "outputs": [
    {
     "data": {
      "text/plain": [
       "0.88300036656891501"
      ]
     },
     "execution_count": 119,
     "metadata": {},
     "output_type": "execute_result"
    }
   ],
   "source": [
    "# Print Cross Val Score\n",
    "cross_val_score(treeclass, X_v2, y, cv=10, n_jobs=-1).mean()"
   ]
  },
  {
   "cell_type": "code",
   "execution_count": 120,
   "metadata": {
    "collapsed": true
   },
   "outputs": [],
   "source": [
    "# Try same DecisionTreeModel using bagging\n",
    "bagger_v2 = BaggingClassifier(treeclass_v2)"
   ]
  },
  {
   "cell_type": "code",
   "execution_count": 121,
   "metadata": {
    "collapsed": false
   },
   "outputs": [
    {
     "data": {
      "text/plain": [
       "BaggingClassifier(base_estimator=DecisionTreeClassifier(class_weight=None, criterion='gini', max_depth=None,\n",
       "            max_features=None, max_leaf_nodes=None, min_samples_leaf=1,\n",
       "            min_samples_split=2, min_weight_fraction_leaf=0.0,\n",
       "            presort=False, random_state=1, splitter='best'),\n",
       "         bootstrap=True, bootstrap_features=False, max_features=1.0,\n",
       "         max_samples=1.0, n_estimators=10, n_jobs=1, oob_score=False,\n",
       "         random_state=None, verbose=0, warm_start=False)"
      ]
     },
     "execution_count": 121,
     "metadata": {},
     "output_type": "execute_result"
    }
   ],
   "source": [
    "bagger_v2.fit(X_train, y_train)"
   ]
  },
  {
   "cell_type": "code",
   "execution_count": 122,
   "metadata": {
    "collapsed": true
   },
   "outputs": [],
   "source": [
    "bagger_preds_v2 = bagger_v2.predict(X_test)"
   ]
  },
  {
   "cell_type": "code",
   "execution_count": 123,
   "metadata": {
    "collapsed": false
   },
   "outputs": [
    {
     "data": {
      "text/plain": [
       "array([[18,  5],\n",
       "       [ 3, 72]])"
      ]
     },
     "execution_count": 123,
     "metadata": {},
     "output_type": "execute_result"
    }
   ],
   "source": [
    "cm_bagger_v2 = confusion_matrix(y_test, bagger_preds_v2)\n",
    "cm_bagger_v2"
   ]
  },
  {
   "cell_type": "code",
   "execution_count": 124,
   "metadata": {
    "collapsed": false
   },
   "outputs": [
    {
     "data": {
      "text/plain": [
       "0.87117546432062554"
      ]
     },
     "execution_count": 124,
     "metadata": {},
     "output_type": "execute_result"
    }
   ],
   "source": [
    "cross_val_score(bagger_v2, X_v2, y, cv=10, n_jobs=-1).mean()"
   ]
  },
  {
   "cell_type": "code",
   "execution_count": 125,
   "metadata": {
    "collapsed": true
   },
   "outputs": [],
   "source": [
    "from sklearn.ensemble import RandomForestClassifier, ExtraTreesClassifier"
   ]
  },
  {
   "cell_type": "code",
   "execution_count": 126,
   "metadata": {
    "collapsed": true
   },
   "outputs": [],
   "source": [
    "# Use RandomForest and ExtraTrees Models\n",
    "rf_v2 = RandomForestClassifier(class_weight='balanced', n_jobs=-1)\n",
    "et_v2 = ExtraTreesClassifier(class_weight='balanced', n_jobs=-1)"
   ]
  },
  {
   "cell_type": "code",
   "execution_count": 127,
   "metadata": {
    "collapsed": false
   },
   "outputs": [
    {
     "data": {
      "text/plain": [
       "RandomForestClassifier(bootstrap=True, class_weight='balanced',\n",
       "            criterion='gini', max_depth=None, max_features='auto',\n",
       "            max_leaf_nodes=None, min_samples_leaf=1, min_samples_split=2,\n",
       "            min_weight_fraction_leaf=0.0, n_estimators=10, n_jobs=-1,\n",
       "            oob_score=False, random_state=None, verbose=0,\n",
       "            warm_start=False)"
      ]
     },
     "execution_count": 127,
     "metadata": {},
     "output_type": "execute_result"
    }
   ],
   "source": [
    "rf_v2.fit(X_train, y_train)"
   ]
  },
  {
   "cell_type": "code",
   "execution_count": 128,
   "metadata": {
    "collapsed": true
   },
   "outputs": [],
   "source": [
    "rf_preds_v2 = rf_v2.predict(X_test)"
   ]
  },
  {
   "cell_type": "code",
   "execution_count": 129,
   "metadata": {
    "collapsed": false
   },
   "outputs": [
    {
     "data": {
      "text/plain": [
       "array([[17,  6],\n",
       "       [ 3, 72]])"
      ]
     },
     "execution_count": 129,
     "metadata": {},
     "output_type": "execute_result"
    }
   ],
   "source": [
    "cm_rf_v2 = confusion_matrix(y_test, rf_preds_v2)\n",
    "cm_rf_v2"
   ]
  },
  {
   "cell_type": "code",
   "execution_count": 130,
   "metadata": {
    "collapsed": false
   },
   "outputs": [
    {
     "data": {
      "text/plain": [
       "0.89854288856304976"
      ]
     },
     "execution_count": 130,
     "metadata": {},
     "output_type": "execute_result"
    }
   ],
   "source": [
    "cross_val_score(rf_v2, X_v2, y, cv=10, n_jobs=-1).mean()"
   ]
  },
  {
   "cell_type": "code",
   "execution_count": 132,
   "metadata": {
    "collapsed": false
   },
   "outputs": [
    {
     "data": {
      "text/html": [
       "<div>\n",
       "<table border=\"1\" class=\"dataframe\">\n",
       "  <thead>\n",
       "    <tr style=\"text-align: right;\">\n",
       "      <th></th>\n",
       "      <th>importance</th>\n",
       "    </tr>\n",
       "  </thead>\n",
       "  <tbody>\n",
       "    <tr>\n",
       "      <th>length</th>\n",
       "      <td>0.573793</td>\n",
       "    </tr>\n",
       "    <tr>\n",
       "      <th>Year</th>\n",
       "      <td>0.235194</td>\n",
       "    </tr>\n",
       "    <tr>\n",
       "      <th>lang_count</th>\n",
       "      <td>0.101699</td>\n",
       "    </tr>\n",
       "    <tr>\n",
       "      <th>Rating_dummy</th>\n",
       "      <td>0.034230</td>\n",
       "    </tr>\n",
       "    <tr>\n",
       "      <th>genre_count</th>\n",
       "      <td>0.033517</td>\n",
       "    </tr>\n",
       "    <tr>\n",
       "      <th>oscar_bait_flag</th>\n",
       "      <td>0.021567</td>\n",
       "    </tr>\n",
       "  </tbody>\n",
       "</table>\n",
       "</div>"
      ],
      "text/plain": [
       "                 importance\n",
       "length             0.573793\n",
       "Year               0.235194\n",
       "lang_count         0.101699\n",
       "Rating_dummy       0.034230\n",
       "genre_count        0.033517\n",
       "oscar_bait_flag    0.021567"
      ]
     },
     "execution_count": 132,
     "metadata": {},
     "output_type": "execute_result"
    }
   ],
   "source": [
    "feature_importances = pd.DataFrame(rf_v2.feature_importances_,\n",
    "                                   index = X_v2.columns,\n",
    "                                    columns=['importance']).sort_values('importance',\n",
    "                                                                        ascending=False)\n",
    "feature_importances.head(10)"
   ]
  },
  {
   "cell_type": "code",
   "execution_count": 133,
   "metadata": {
    "collapsed": false
   },
   "outputs": [
    {
     "data": {
      "text/plain": [
       "ExtraTreesClassifier(bootstrap=False, class_weight='balanced',\n",
       "           criterion='gini', max_depth=None, max_features='auto',\n",
       "           max_leaf_nodes=None, min_samples_leaf=1, min_samples_split=2,\n",
       "           min_weight_fraction_leaf=0.0, n_estimators=10, n_jobs=-1,\n",
       "           oob_score=False, random_state=None, verbose=0, warm_start=False)"
      ]
     },
     "execution_count": 133,
     "metadata": {},
     "output_type": "execute_result"
    }
   ],
   "source": [
    "et_v2.fit(X_train, y_train)"
   ]
  },
  {
   "cell_type": "code",
   "execution_count": 134,
   "metadata": {
    "collapsed": true
   },
   "outputs": [],
   "source": [
    "et_preds_v2 = et_v2.predict(X_test)"
   ]
  },
  {
   "cell_type": "code",
   "execution_count": 135,
   "metadata": {
    "collapsed": false
   },
   "outputs": [
    {
     "data": {
      "text/plain": [
       "array([[16,  7],\n",
       "       [ 5, 70]])"
      ]
     },
     "execution_count": 135,
     "metadata": {},
     "output_type": "execute_result"
    }
   ],
   "source": [
    "cm_et_v2 = confusion_matrix(y_test, et_preds_v2)\n",
    "cm_et_v2"
   ]
  },
  {
   "cell_type": "code",
   "execution_count": 136,
   "metadata": {
    "collapsed": false
   },
   "outputs": [
    {
     "data": {
      "text/plain": [
       "0.85221774193548383"
      ]
     },
     "execution_count": 136,
     "metadata": {},
     "output_type": "execute_result"
    }
   ],
   "source": [
    "cross_val_score(et_v2, X_v2, y, cv=10, n_jobs=-1).mean()"
   ]
  },
  {
   "cell_type": "code",
   "execution_count": 143,
   "metadata": {
    "collapsed": true
   },
   "outputs": [],
   "source": [
    "et_score = cross_val_score(et_v2, X_v2, y, cv=10, n_jobs=-1).mean()"
   ]
  },
  {
   "cell_type": "code",
   "execution_count": 137,
   "metadata": {
    "collapsed": false,
    "scrolled": false
   },
   "outputs": [
    {
     "data": {
      "text/html": [
       "<div>\n",
       "<table border=\"1\" class=\"dataframe\">\n",
       "  <thead>\n",
       "    <tr style=\"text-align: right;\">\n",
       "      <th></th>\n",
       "      <th>importance</th>\n",
       "    </tr>\n",
       "  </thead>\n",
       "  <tbody>\n",
       "    <tr>\n",
       "      <th>length</th>\n",
       "      <td>0.467704</td>\n",
       "    </tr>\n",
       "    <tr>\n",
       "      <th>Year</th>\n",
       "      <td>0.208964</td>\n",
       "    </tr>\n",
       "    <tr>\n",
       "      <th>lang_count</th>\n",
       "      <td>0.205083</td>\n",
       "    </tr>\n",
       "    <tr>\n",
       "      <th>genre_count</th>\n",
       "      <td>0.060712</td>\n",
       "    </tr>\n",
       "    <tr>\n",
       "      <th>Rating_dummy</th>\n",
       "      <td>0.032074</td>\n",
       "    </tr>\n",
       "    <tr>\n",
       "      <th>oscar_bait_flag</th>\n",
       "      <td>0.025463</td>\n",
       "    </tr>\n",
       "  </tbody>\n",
       "</table>\n",
       "</div>"
      ],
      "text/plain": [
       "                 importance\n",
       "length             0.467704\n",
       "Year               0.208964\n",
       "lang_count         0.205083\n",
       "genre_count        0.060712\n",
       "Rating_dummy       0.032074\n",
       "oscar_bait_flag    0.025463"
      ]
     },
     "execution_count": 137,
     "metadata": {},
     "output_type": "execute_result"
    }
   ],
   "source": [
    "feature_importances = pd.DataFrame(et_v2.feature_importances_,\n",
    "                                   index = X_v2.columns,\n",
    "                                    columns=['importance']).sort_values('importance',\n",
    "                                                                        ascending=False)\n",
    "feature_importances.head(10)"
   ]
  },
  {
   "cell_type": "markdown",
   "metadata": {},
   "source": [
    "Even though the model performs worse (as measured by cross val score) without the imdbVotes feature, I have more confidence that the model does not suffer from multicollinearity."
   ]
  },
  {
   "cell_type": "code",
   "execution_count": 149,
   "metadata": {
    "collapsed": false
   },
   "outputs": [
    {
     "data": {
      "text/html": [
       "<div>\n",
       "<table border=\"1\" class=\"dataframe\">\n",
       "  <thead>\n",
       "    <tr style=\"text-align: right;\">\n",
       "      <th></th>\n",
       "      <th>Rating_dummy</th>\n",
       "      <th>Year</th>\n",
       "      <th>genre_count</th>\n",
       "      <th>imdbVotes</th>\n",
       "      <th>lang_count</th>\n",
       "      <th>length</th>\n",
       "      <th>oscar_bait_flag</th>\n",
       "    </tr>\n",
       "    <tr>\n",
       "      <th>top250_flag</th>\n",
       "      <th></th>\n",
       "      <th></th>\n",
       "      <th></th>\n",
       "      <th></th>\n",
       "      <th></th>\n",
       "      <th></th>\n",
       "      <th></th>\n",
       "    </tr>\n",
       "  </thead>\n",
       "  <tbody>\n",
       "    <tr>\n",
       "      <th>0</th>\n",
       "      <td>0.243590</td>\n",
       "      <td>1992.679487</td>\n",
       "      <td>2.128205</td>\n",
       "      <td>13032.974359</td>\n",
       "      <td>1.012821</td>\n",
       "      <td>92.397436</td>\n",
       "      <td>0.230769</td>\n",
       "    </tr>\n",
       "    <tr>\n",
       "      <th>1</th>\n",
       "      <td>0.412955</td>\n",
       "      <td>1984.356275</td>\n",
       "      <td>2.461538</td>\n",
       "      <td>399999.093117</td>\n",
       "      <td>1.854251</td>\n",
       "      <td>129.016194</td>\n",
       "      <td>0.283401</td>\n",
       "    </tr>\n",
       "  </tbody>\n",
       "</table>\n",
       "</div>"
      ],
      "text/plain": [
       "             Rating_dummy         Year  genre_count      imdbVotes  \\\n",
       "top250_flag                                                          \n",
       "0                0.243590  1992.679487     2.128205   13032.974359   \n",
       "1                0.412955  1984.356275     2.461538  399999.093117   \n",
       "\n",
       "             lang_count      length  oscar_bait_flag  \n",
       "top250_flag                                           \n",
       "0              1.012821   92.397436         0.230769  \n",
       "1              1.854251  129.016194         0.283401  "
      ]
     },
     "execution_count": 149,
     "metadata": {},
     "output_type": "execute_result"
    }
   ],
   "source": [
    "# Print some summary stats for feature variables split by target variable\n",
    "pd.pivot_table(all_movies_v2, index=['top250_flag'], values=['length','Year','lang_count','imdbVotes','genre_count',\n",
    "                                                            'Rating_dummy','oscar_bait_flag'],\n",
    "               aggfunc=np.mean)"
   ]
  },
  {
   "cell_type": "code",
   "execution_count": null,
   "metadata": {
    "collapsed": true
   },
   "outputs": [],
   "source": []
  }
 ],
 "metadata": {
  "kernelspec": {
   "display_name": "Python 2",
   "language": "python",
   "name": "python2"
  },
  "language_info": {
   "codemirror_mode": {
    "name": "ipython",
    "version": 2
   },
   "file_extension": ".py",
   "mimetype": "text/x-python",
   "name": "python",
   "nbconvert_exporter": "python",
   "pygments_lexer": "ipython2",
   "version": "2.7.12"
  }
 },
 "nbformat": 4,
 "nbformat_minor": 0
}
